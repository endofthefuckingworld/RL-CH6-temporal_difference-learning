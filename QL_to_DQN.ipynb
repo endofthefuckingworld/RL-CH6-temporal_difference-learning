{
 "cells": [
  {
   "cell_type": "code",
   "execution_count": 29,
   "metadata": {},
   "outputs": [],
   "source": [
    "import numpy as np\n",
    "from tqdm import tqdm\n",
    "import matplotlib.pyplot as plt\n",
    "plt.style.use(\"seaborn\")\n",
    "\n",
    "GRID_SIZE = np.zeros((4,12))\n",
    "\n",
    "ACTIONS = np.array([[-1, 0],   #0 up\n",
    "                    [1, 0],    #1 down\n",
    "                    [0, -1],   #2 left\n",
    "                    [0, 1]])   #3 right\n",
    "\n",
    "actions = np.arange(4)   #represent ACTIONS\n",
    "\n",
    "EPOCHS = 250\n",
    "\n",
    "STEP_SIZE = 0.5\n",
    "\n",
    "DISCOUNT_RATE = 1\n",
    "\n",
    "START = np.array([3,0])\n",
    "\n",
    "TARGET = np.array([3,11])\n",
    "\n",
    "class Environment:\n",
    "    def step(self, State, Action):\n",
    "        pos = State + Action\n",
    "        for i in range(len(pos)):\n",
    "            if pos[i] < 0:\n",
    "                pos[i] = max(0,pos[i])\n",
    "            else:\n",
    "                pos[i] = min(GRID_SIZE.shape[i]-1,pos[i])\n",
    "        \n",
    "        done = False\n",
    "        if (pos == TARGET).all() == True:\n",
    "            done = True\n",
    "\n",
    "        if pos[0] == 3 and 1 <= pos[1] <= 10: #fall off the cliff\n",
    "            pos = START\n",
    "            return pos, -100, done\n",
    "        else:\n",
    "            return pos, -1, done"
   ]
  },
  {
   "cell_type": "code",
   "execution_count": 30,
   "metadata": {},
   "outputs": [],
   "source": [
    "def ε_greedy_policy(t,pos,Q_table):\n",
    "    random_num = np.random.rand(1)\n",
    "    if random_num > max(0.1,1/t):                #exploitation\n",
    "        return np.argmax(Q_table[:,pos[0],pos[1]])\n",
    "    else:                                        #exploration\n",
    "        return np.random.choice(actions)"
   ]
  },
  {
   "cell_type": "code",
   "execution_count": 31,
   "metadata": {},
   "outputs": [],
   "source": [
    "def q_learning(q_table, epochs = EPOCHS, alpha = STEP_SIZE, gamma = DISCOUNT_RATE):\n",
    "    for t in range(epochs):\n",
    "        env = Environment()\n",
    "        state = START\n",
    "        while True:\n",
    "            action = ε_greedy_policy(t+1,state,q_table)\n",
    "            next_state, reward, done = env.step(state, ACTIONS[action])\n",
    "            \n",
    "            q_table[action,state[0],state[1]] += alpha * (\n",
    "                reward + gamma * max(q_table[:,next_state[0],next_state[1]])\n",
    "                -q_table[action,state[0],state[1]]\n",
    "            )\n",
    "            \n",
    "            state = next_state\n",
    "            if done == True:\n",
    "                break   "
   ]
  },
  {
   "cell_type": "code",
   "execution_count": 32,
   "metadata": {},
   "outputs": [],
   "source": [
    "q_table = np.zeros((4, 4, 12))\n",
    "q_learning(q_table)"
   ]
  },
  {
   "cell_type": "code",
   "execution_count": 33,
   "metadata": {},
   "outputs": [],
   "source": [
    "def print_optimal_policy(Q_table):\n",
    "    # display the optimal policy\n",
    "    optimal_policy = []\n",
    "    for i in range(0, 4):\n",
    "        optimal_policy.append([])\n",
    "        for j in range(0, 12):\n",
    "            if ([i, j] == TARGET).all():\n",
    "                optimal_policy[-1].append('G')\n",
    "                continue\n",
    "            bestAction = np.argmax(Q_table[:, i, j])\n",
    "            if bestAction == 0:\n",
    "                optimal_policy[-1].append('U')\n",
    "            elif bestAction == 1:\n",
    "                optimal_policy[-1].append('D')\n",
    "            elif bestAction == 2:\n",
    "                optimal_policy[-1].append('L')\n",
    "            elif bestAction == 3:\n",
    "                optimal_policy[-1].append('R')\n",
    "    for row in optimal_policy:\n",
    "        print(row)"
   ]
  },
  {
   "cell_type": "code",
   "execution_count": 34,
   "metadata": {},
   "outputs": [
    {
     "name": "stdout",
     "output_type": "stream",
     "text": [
      "Q-Learning Optimal Policy:\n",
      "['D', 'R', 'U', 'R', 'R', 'R', 'R', 'R', 'D', 'R', 'R', 'D']\n",
      "['D', 'U', 'R', 'R', 'R', 'R', 'D', 'R', 'R', 'D', 'D', 'D']\n",
      "['R', 'R', 'R', 'R', 'R', 'R', 'R', 'R', 'R', 'R', 'R', 'D']\n",
      "['U', 'U', 'U', 'U', 'U', 'U', 'U', 'U', 'U', 'U', 'U', 'G']\n"
     ]
    }
   ],
   "source": [
    "print('Q-Learning Optimal Policy:')\n",
    "print_optimal_policy(q_table)"
   ]
  }
 ],
 "metadata": {
  "kernelspec": {
   "display_name": "Python 3.9.6 64-bit",
   "language": "python",
   "name": "python3"
  },
  "language_info": {
   "codemirror_mode": {
    "name": "ipython",
    "version": 3
   },
   "file_extension": ".py",
   "mimetype": "text/x-python",
   "name": "python",
   "nbconvert_exporter": "python",
   "pygments_lexer": "ipython3",
   "version": "3.9.6"
  },
  "orig_nbformat": 4,
  "vscode": {
   "interpreter": {
    "hash": "fa86f03d865a85f838fe5ab49530f2c4e6314982a13989a911720a66e7fac4c3"
   }
  }
 },
 "nbformat": 4,
 "nbformat_minor": 2
}
