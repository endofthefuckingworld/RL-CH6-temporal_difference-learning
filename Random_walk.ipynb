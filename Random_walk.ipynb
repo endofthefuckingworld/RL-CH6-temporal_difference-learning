{
 "cells": [
  {
   "cell_type": "code",
   "execution_count": 617,
   "metadata": {},
   "outputs": [],
   "source": [
    "import numpy as np\n",
    "from tqdm import tqdm\n",
    "import matplotlib.pyplot as plt\n",
    "import math"
   ]
  },
  {
   "cell_type": "code",
   "execution_count": 618,
   "metadata": {},
   "outputs": [],
   "source": [
    "N_STATES = 5\n",
    "ACTIONS = [-1, 1]\n",
    "GAMMA = 0.9"
   ]
  },
  {
   "cell_type": "code",
   "execution_count": 619,
   "metadata": {},
   "outputs": [],
   "source": [
    "def step(state, action):\n",
    "    next_state = state + ACTIONS[action]\n",
    "    terminal = False\n",
    "    reward = 0\n",
    "    if next_state == N_STATES:\n",
    "        reward = 1\n",
    "\n",
    "    if next_state == -1 or next_state == N_STATES:\n",
    "        terminal = True\n",
    "    \n",
    "    return next_state, reward, terminal"
   ]
  },
  {
   "cell_type": "code",
   "execution_count": 620,
   "metadata": {},
   "outputs": [
    {
     "name": "stdout",
     "output_type": "stream",
     "text": [
      "[0.06549522 0.14555021 0.25794969 0.42768187 0.69245447]\n"
     ]
    }
   ],
   "source": [
    "def DP_prediction():\n",
    "    state_value = np.zeros(N_STATES)\n",
    "    while True:\n",
    "        new_values = np.zeros(N_STATES)\n",
    "        for i in range(N_STATES):\n",
    "            for j in range(2):\n",
    "                next_state, reward, terminal = step(i, j)\n",
    "                if terminal:\n",
    "                    new_values[i] += 0.5*reward\n",
    "                else:\n",
    "                    new_values[i] += 0.5*(reward + GAMMA*state_value[next_state])\n",
    "        if np.sum(np.abs(new_values - state_value)) <= 1e-5:\n",
    "            break\n",
    "        state_value = new_values\n",
    "\n",
    "    return state_value\n",
    "\n",
    "actual_value = DP_prediction()\n",
    "print(actual_value)"
   ]
  },
  {
   "cell_type": "code",
   "execution_count": 621,
   "metadata": {},
   "outputs": [],
   "source": [
    "def compute_RMS(actual, pred):\n",
    "    return math.pow(np.mean((actual-pred)**2),0.5)"
   ]
  },
  {
   "cell_type": "code",
   "execution_count": 622,
   "metadata": {},
   "outputs": [],
   "source": [
    "EPISODES = 100\n",
    "INITIAL_STATE = 2\n",
    "\n",
    "def TD_prediction(alpha = 0.05):\n",
    "    state_value = np.ones(N_STATES)/2\n",
    "    RMS = np.zeros(EPISODES)\n",
    "    for i in range(EPISODES):\n",
    "        state = INITIAL_STATE\n",
    "        while True:\n",
    "            random_num = np.random.rand(1)\n",
    "            action = 0\n",
    "            if random_num > 0.5:\n",
    "                action = 1\n",
    "\n",
    "            next_state, reward, terminal = step(state, action)\n",
    "            if terminal:\n",
    "                state_value[state] = state_value[state] + alpha*(reward - state_value[state])\n",
    "                break\n",
    "            else:\n",
    "                state_value[state] = state_value[state] + alpha*(reward + GAMMA*state_value[next_state] - state_value[state])\n",
    "            \n",
    "            state = next_state\n",
    "        RMS[i] = compute_RMS(actual_value, state_value)\n",
    "    return RMS, state_value\n",
    "\n",
    "def MC_prediction(alpha = 0.03):\n",
    "    state_value = np.ones(N_STATES)/2\n",
    "    RMS = np.zeros(EPISODES)\n",
    "    for i in range(EPISODES):\n",
    "        state = INITIAL_STATE\n",
    "        trajectory = []\n",
    "        while True:\n",
    "            random_num = np.random.rand(1)\n",
    "            action = 0\n",
    "            if random_num > 0.5:\n",
    "                action = 1\n",
    "\n",
    "            next_state, reward, terminal = step(state, action)\n",
    "            trajectory.append([state, reward])\n",
    "            if terminal:\n",
    "                G = 0\n",
    "                for j in np.flip(range(len(trajectory))):\n",
    "                    state = trajectory[j][0]\n",
    "                    G = G*GAMMA + trajectory[j][1]\n",
    "                    state_value[state] = state_value[state] + alpha*(G - state_value[state])\n",
    "                break\n",
    "            \n",
    "            state = next_state\n",
    "        RMS[i] = compute_RMS(actual_value, state_value)\n",
    "    return RMS, state_value"
   ]
  },
  {
   "cell_type": "code",
   "execution_count": 623,
   "metadata": {},
   "outputs": [
    {
     "data": {
      "text/plain": [
       "<matplotlib.legend.Legend at 0x2876ca949a0>"
      ]
     },
     "execution_count": 623,
     "metadata": {},
     "output_type": "execute_result"
    },
    {
     "data": {
      "image/png": "[encoded data removed]",
      "text/plain": [
       "<Figure size 432x288 with 1 Axes>"
      ]
     },
     "metadata": {
      "needs_background": "light"
     },
     "output_type": "display_data"
    }
   ],
   "source": [
    "MC_ALPHA = [0.01]\n",
    "TD_ALPHA = [0.05]\n",
    "RMS_all = np.zeros((len(TD_ALPHA)+len(MC_ALPHA), EPISODES))\n",
    "\n",
    "for i, alpha in enumerate(TD_ALPHA):\n",
    "    RMS_all[i], _ = TD_prediction(alpha = alpha)\n",
    "    plt.plot(RMS_all[i], label='TD, alpha='+str(alpha))\n",
    "\n",
    "for j, alpha in enumerate(MC_ALPHA):\n",
    "    RMS_all[len(TD_ALPHA)+j], _ = MC_prediction(alpha = alpha)\n",
    "    plt.plot(RMS_all[len(TD_ALPHA)+j], label='MC, alpha='+str(alpha))\n",
    "\n",
    "plt.xlabel('Episodes')\n",
    "plt.ylabel('RSM')\n",
    "plt.title(\"Empirical RMS error, averaged over states\")\n",
    "plt.legend()"
   ]
  }
 ],
 "metadata": {
  "interpreter": {
   "hash": "d48fea29b5c785b224b8f445531be3f4af692ea6256bf4222ac9df6f7f80872a"
  },
  "kernelspec": {
   "display_name": "Python 3.9.12 ('Terry')",
   "language": "python",
   "name": "python3"
  },
  "language_info": {
   "codemirror_mode": {
    "name": "ipython",
    "version": 3
   },
   "file_extension": ".py",
   "mimetype": "text/x-python",
   "name": "python",
   "nbconvert_exporter": "python",
   "pygments_lexer": "ipython3",
   "version": "3.9.12"
  },
  "orig_nbformat": 4
 },
 "nbformat": 4,
 "nbformat_minor": 2
}
