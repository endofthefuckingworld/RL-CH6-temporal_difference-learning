{
 "cells": [
  {
   "cell_type": "code",
   "execution_count": 1,
   "id": "15edcb2d",
   "metadata": {},
   "outputs": [],
   "source": [
    "import numpy as np\n",
    "from tqdm import tqdm\n",
    "import matplotlib.pyplot as plt\n",
    "plt.style.use(\"seaborn\")\n",
    "\n",
    "GRID_SIZE = np.zeros((7,10))\n",
    "\n",
    "ACTIONS = np.array([[-1, 0],   #0 up\n",
    "                    [1, 0],    #1 down\n",
    "                    [0, -1],   #2 left\n",
    "                    [0, 1]])   #3 right\n",
    "\n",
    "actions = np.arange(4)   #represent ACTIONS\n",
    "\n",
    "STEP_SIZE = 0.2\n",
    "\n",
    "DISCOUNT_RATE = 1\n",
    "\n",
    "WIND_STRENGTH = [0,0,0,1,1,1,2,2,1,0]\n",
    "\n",
    "TARGET = np.array([3,7])\n",
    "class Environment:\n",
    "    def __init__(self):\n",
    "        self.state = np.array([3,0])\n",
    "        self.next_state = None\n",
    "        self.action = np.random.choice(actions)\n",
    "    \n",
    "    def act_action(self,Action):\n",
    "        pos = self.state + Action\n",
    "        pos[0] -= WIND_STRENGTH[self.state[1]]\n",
    "\n",
    "        for i in range(len(pos)):\n",
    "            if pos[i] < 0:\n",
    "                pos[i] = max(0,pos[i])\n",
    "            else:\n",
    "                pos[i] = min(GRID_SIZE.shape[i]-1,pos[i])\n",
    "        self.next_state = pos\n",
    "        if (pos == TARGET).all():\n",
    "            return 1\n",
    "        else:\n",
    "            return -1\n",
    "        "
   ]
  },
  {
   "cell_type": "code",
   "execution_count": 2,
   "id": "c9442101",
   "metadata": {},
   "outputs": [],
   "source": [
    "def ε_greedy_policy(t,pos,Q_table):\n",
    "    random_num = np.random.rand(1)\n",
    "    if random_num > max(0.2,1/t):       #exploitation\n",
    "        return np.argmax(Q_table[:,pos[0],pos[1]])\n",
    "    else:                               #exploration\n",
    "        return np.random.choice(actions)"
   ]
  },
  {
   "cell_type": "code",
   "execution_count": 3,
   "id": "24be25a8",
   "metadata": {},
   "outputs": [
    {
     "name": "stderr",
     "output_type": "stream",
     "text": [
      "100%|████████████████████████████████████████████████████████████████████████████| 1000/1000 [00:00<00:00, 1007.93it/s]\n"
     ]
    }
   ],
   "source": [
    "Q_table = np.zeros((4,7,10))\n",
    "steps = []\n",
    "step = 0\n",
    "#Sarsa (on-policy TD control)\n",
    "for t in tqdm(range(1,1001)):\n",
    "    actor = Environment()  #episode start\n",
    "    actor.action = ε_greedy_policy(t,actor.state,Q_table)\n",
    "    steps.append(step)\n",
    "    step = 0\n",
    "    while (actor.state == TARGET).all() == False:\n",
    "        step += 1\n",
    "        reward = actor.act_action(ACTIONS[actor.action])\n",
    "        next_action = ε_greedy_policy(t,actor.next_state,Q_table)\n",
    "        Q_table[actor.action,actor.state[0],actor.state[1]] += STEP_SIZE * (\n",
    "            reward + DISCOUNT_RATE * Q_table[next_action,actor.next_state[0],actor.next_state[1]] - \\\n",
    "            Q_table[actor.action,actor.state[0],actor.state[1]]) \n",
    "        #print(actor.state,actor.next_state,actor.action)\n",
    "        actor.state = actor.next_state\n",
    "        actor.action = next_action\n",
    "               "
   ]
  },
  {
   "cell_type": "code",
   "execution_count": 4,
   "id": "3dc37681",
   "metadata": {},
   "outputs": [
    {
     "data": {
      "text/plain": [
       "Text(0, 0.5, 'steps')"
      ]
     },
     "execution_count": 4,
     "metadata": {},
     "output_type": "execute_result"
    },
    {
     "data": {
      "image/png": "[encoded data removed]",
      "text/plain": [
       "<Figure size 576x396 with 1 Axes>"
      ]
     },
     "metadata": {},
     "output_type": "display_data"
    }
   ],
   "source": [
    "plt.plot(range(len(steps)),steps,'-')\n",
    "plt.xlabel('episode')\n",
    "plt.ylabel('steps')"
   ]
  },
  {
   "cell_type": "code",
   "execution_count": 5,
   "id": "b2d137f1",
   "metadata": {},
   "outputs": [
    {
     "name": "stdout",
     "output_type": "stream",
     "text": [
      "Optimal policy is:\n",
      "['U', 'D', 'L', 'R', 'R', 'R', 'R', 'R', 'R', 'D']\n",
      "['R', 'R', 'D', 'R', 'R', 'R', 'R', 'R', 'R', 'D']\n",
      "['R', 'D', 'R', 'R', 'R', 'R', 'R', 'R', 'R', 'D']\n",
      "['R', 'R', 'R', 'R', 'R', 'R', 'R', 'G', 'R', 'D']\n",
      "['R', 'R', 'R', 'R', 'R', 'R', 'U', 'D', 'L', 'L']\n",
      "['R', 'R', 'R', 'R', 'R', 'U', 'U', 'D', 'L', 'L']\n",
      "['D', 'R', 'R', 'R', 'U', 'U', 'U', 'U', 'D', 'L']\n"
     ]
    }
   ],
   "source": [
    "# display the optimal policy\n",
    "optimal_policy = []\n",
    "for i in range(0, 7):\n",
    "    optimal_policy.append([])\n",
    "    for j in range(0, 10):\n",
    "        if ([i, j] == TARGET).all():\n",
    "            optimal_policy[-1].append('G')\n",
    "            continue\n",
    "        bestAction = np.argmax(Q_table[:, i, j])\n",
    "        if bestAction == 0:\n",
    "            optimal_policy[-1].append('U')\n",
    "        elif bestAction == 1:\n",
    "            optimal_policy[-1].append('D')\n",
    "        elif bestAction == 2:\n",
    "            optimal_policy[-1].append('L')\n",
    "        elif bestAction == 3:\n",
    "            optimal_policy[-1].append('R')\n",
    "print('Optimal policy is:')\n",
    "for row in optimal_policy:\n",
    "    print(row)"
   ]
  },
  {
   "cell_type": "code",
   "execution_count": null,
   "id": "65dc6b83",
   "metadata": {},
   "outputs": [],
   "source": []
  }
 ],
 "metadata": {
  "kernelspec": {
   "display_name": "Python 3",
   "language": "python",
   "name": "python3"
  },
  "language_info": {
   "codemirror_mode": {
    "name": "ipython",
    "version": 3
   },
   "file_extension": ".py",
   "mimetype": "text/x-python",
   "name": "python",
   "nbconvert_exporter": "python",
   "pygments_lexer": "ipython3",
   "version": "3.8.8"
  }
 },
 "nbformat": 4,
 "nbformat_minor": 5
}
